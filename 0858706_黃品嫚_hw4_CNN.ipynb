{
 "cells": [
  {
   "cell_type": "code",
   "execution_count": 1,
   "metadata": {},
   "outputs": [
    {
     "data": {
      "image/png": "[encoded data removed]",
      "text/plain": [
       "<Figure size 432x288 with 1 Axes>"
      ]
     },
     "metadata": {
      "needs_background": "light"
     },
     "output_type": "display_data"
    },
    {
     "data": {
      "image/png": "[encoded data removed]",
      "text/plain": [
       "<Figure size 432x288 with 1 Axes>"
      ]
     },
     "metadata": {
      "needs_background": "light"
     },
     "output_type": "display_data"
    }
   ],
   "source": [
    "# 參考：用來生成 Game of Life 的下一個狀態，用來檢查\n",
    "import numpy as np\n",
    "\n",
    "# 先寫一個正常的程式，來生成 Game of Life 的下一個狀態，用來檢查\n",
    "def game(board):\n",
    "    board_pad = np.pad(board, 1, 'constant', constant_values = 0)\n",
    "    # 用比較笨的方式，厲害一點用 http://stackoverflow.com/questions/32660953/numpy-sliding-2d-window-calculations\n",
    "    rtn = np.zeros_like(board)\n",
    "    for i in range(board.shape[0]):\n",
    "        for j in range(board.shape[1]):\n",
    "            alive = board[i, j]\n",
    "            neighbord_count = board_pad[i:i+3, j:j+3].sum() - alive\n",
    "            if (alive and neighbord_count == 2) or neighbord_count==3:\n",
    "                rtn[i,j] = 1\n",
    "    return rtn\n",
    "\n",
    "# 隨機生成一個盤面\n",
    "board = np.random.randint(0,2, size=(10,10))\n",
    "# 畫出來看看\n",
    "%matplotlib inline\n",
    "import matplotlib.pyplot as plt\n",
    "plt.figure(0)\n",
    "plt.imshow(board)\n",
    "\n",
    "# 跑出下一個盤面\n",
    "board_after = game(board)\n",
    "# 畫出來看看\n",
    "plt.figure(1)\n",
    "plt.imshow(board_after);"
   ]
  },
  {
   "cell_type": "markdown",
   "metadata": {},
   "source": [
    "## Using Keras"
   ]
  },
  {
   "cell_type": "code",
   "execution_count": 144,
   "metadata": {},
   "outputs": [],
   "source": [
    "from keras.models import Model\n",
    "from keras.layers import Conv2D, Input\n",
    "\n",
    "def W(size, dtype='float32'):\n",
    "    rtn = np.ones(shape=(3,3,1,4), dtype='float32')\n",
    "    rtn[1,1,0,2:] = 10\n",
    "    return rtn\n",
    "\n",
    "def b(size, dtype='float32'):    \n",
    "    return np.array([-2,-3, -12,-13], dtype=dtype)\n",
    "\n",
    "def W2(size, dtype='float32'):\n",
    "    return np.array([1,-2,1,-2], dtype=dtype).reshape(1,1,4,1)\n",
    "\n",
    "def b2(size, dtype='float32'):\n",
    "    return np.full(size, -0.5, dtype=dtype)"
   ]
  },
  {
   "cell_type": "code",
   "execution_count": 145,
   "metadata": {},
   "outputs": [
    {
     "name": "stdout",
     "output_type": "stream",
     "text": [
      "OK 0\n",
      "OK 1\n",
      "OK 2\n",
      "OK 3\n",
      "OK 4\n"
     ]
    },
    {
     "data": {
      "image/png": "[encoded data removed]",
      "text/plain": [
       "<Figure size 432x288 with 2 Axes>"
      ]
     },
     "metadata": {},
     "output_type": "display_data"
    },
    {
     "data": {
      "image/png": "[encoded data removed]",
      "text/plain": [
       "<Figure size 432x288 with 2 Axes>"
      ]
     },
     "metadata": {},
     "output_type": "display_data"
    },
    {
     "data": {
      "image/png": "[encoded data removed]",
      "text/plain": [
       "<Figure size 432x288 with 2 Axes>"
      ]
     },
     "metadata": {},
     "output_type": "display_data"
    },
    {
     "data": {
      "image/png": "[encoded data removed]",
      "text/plain": [
       "<Figure size 432x288 with 2 Axes>"
      ]
     },
     "metadata": {},
     "output_type": "display_data"
    },
    {
     "data": {
      "image/png": "[encoded data removed]",
      "text/plain": [
       "<Figure size 432x288 with 2 Axes>"
      ]
     },
     "metadata": {},
     "output_type": "display_data"
    }
   ],
   "source": [
    "inputs = Input(shape=(None,None,1))\n",
    "hidden = Conv2D(filters=4, kernel_size=3, padding='same', activation=\"relu\",\n",
    "             kernel_initializer=W, bias_initializer=b)(inputs)\n",
    "out = Conv2D(filters=1, kernel_size=1, padding='same', activation=\"relu\",\n",
    "             kernel_initializer=W2, bias_initializer=b2)(hidden)\n",
    "model = Model(inputs, out)\n",
    "\n",
    "N = 5\n",
    "boards = np.random.randint(0,2, size=(N,10,10))\n",
    "rtn = model.predict(boards[..., None])\n",
    "rtn = (rtn>0).astype('int')\n",
    "\n",
    "for i in range(N):\n",
    "    b = game(boards[i])\n",
    "    \n",
    "    figure = plt.figure()\n",
    "    figure.add_subplot(1,2,1)\n",
    "    plt.imshow(b, cmap='binary')\n",
    "    plt.title('Ans Board'), plt.xticks([]), plt.yticks([])\n",
    "    figure.add_subplot(1,2, 2)\n",
    "    plt.imshow(rtn[i, :, :, 0], cmap='binary')\n",
    "    plt.title('Prediction Board'), plt.xticks([]), plt.yticks([])\n",
    "    \n",
    "    assert (b == rtn[i, :, :, 0]).all()\n",
    "    print(\"OK\", i)"
   ]
  },
  {
   "cell_type": "code",
   "execution_count": 4,
   "metadata": {},
   "outputs": [
    {
     "data": {
      "application/vnd.jupyter.widget-view+json": {
       "model_id": "1b108b3f2dab4508b697903821d039ef",
       "version_major": 2,
       "version_minor": 0
      },
      "text/plain": [
       "Image(value=b'', width='400')"
      ]
     },
     "metadata": {},
     "output_type": "display_data"
    }
   ],
   "source": [
    "# 或者用動畫跑跑看 需要 pillow, ipywidgets\n",
    "# 定義一個動畫的函數\n",
    "from IPython.display import display\n",
    "from ipywidgets import Image as Image_widget\n",
    "import time\n",
    "from PIL import Image\n",
    "def anim(func, time_length, interval=0.1, width=400):\n",
    "    img = Image_widget(width=width)\n",
    "    display(img)\n",
    "    start_time = time.time()\n",
    "    for t in np.arange(0, time_length, interval):\n",
    "        frame = Image.fromarray((func(t)*255).astype('uint8'))\n",
    "        img.value = frame._repr_png_()\n",
    "        now = time.time()\n",
    "        if now < start_time+t:\n",
    "            time.sleep(start_time+t-now)\n",
    "\n",
    "# 下面跑 Game of Life 的動畫\n",
    "board = np.random.randint(0,2, size=(100,100))\n",
    "def glife(t):\n",
    "    if t>0:\n",
    "        board[...] = game(board)\n",
    "    return board\n",
    "# 一分鐘\n",
    "anim(glife, 60)"
   ]
  },
  {
   "cell_type": "markdown",
   "metadata": {},
   "source": [
    "## Using numpy"
   ]
  },
  {
   "cell_type": "code",
   "execution_count": 97,
   "metadata": {},
   "outputs": [],
   "source": [
    "def conv2d(X, kernel, bias):\n",
    "    \n",
    "    convolved = np.zeros((kernel.shape[0], X.shape[0], X.shape[1]))\n",
    "    \n",
    "    # padding\n",
    "    ud_pad = kernel.shape[1]-1\n",
    "    rl_pad = kernel.shape[2]-1\n",
    "    # up and down\n",
    "    if (ud_pad%2==0):\n",
    "        for i in range(int(ud_pad/2)):\n",
    "            X = np.insert(X, 0, 0, axis=0)\n",
    "            X = np.insert(X, X.shape[0], 0, axis=0)\n",
    "    else:\n",
    "        X = np.insert(X, X.shape[0], 0, axis=0)\n",
    "        for i in range(int((ud_pad-1)/2)):\n",
    "            X = np.insert(X, 0, 0, axis=0)\n",
    "            X = np.insert(X, X.shape[0], 0, axis=0)\n",
    "    # left and right\n",
    "    if (rl_pad%2==0):\n",
    "        for i in range(int(rl_pad/2)):\n",
    "            X = np.insert(X, 0, 0, axis=1)\n",
    "            X = np.insert(X, X.shape[1], 0, axis=1)\n",
    "    else:\n",
    "        X = np.insert(X, X.shape[1], 0, axis=1)\n",
    "        for i in range(int((rl_pad-1)/2)):\n",
    "            X = np.insert(X, 0, 0, axis=1)\n",
    "            X = np.insert(X, X.shape[1], 0, axis=1)\n",
    "    \n",
    "    # convlution\n",
    "    for n in range(kernel.shape[0]):\n",
    "        for i in range(convolved.shape[1]):\n",
    "            for j in range(convolved.shape[2]):\n",
    "                convolved[n, i, j] = (X[i:i+kernel.shape[1], j:j+kernel.shape[2]] * kernel[n]).sum()+bias[n]\n",
    "    \n",
    "    # activation: ReLU\n",
    "    convolved = np.maximum(convolved, 0)\n",
    "                \n",
    "    return convolved"
   ]
  },
  {
   "cell_type": "code",
   "execution_count": 146,
   "metadata": {},
   "outputs": [],
   "source": [
    "N = 5\n",
    "boards = np.random.randint(0,2, size=(N,10,10))\n"
   ]
  },
  {
   "cell_type": "code",
   "execution_count": 149,
   "metadata": {},
   "outputs": [],
   "source": [
    "K1 = np.array([[[1, 1, 1],\n",
    "                [1, 1, 1],\n",
    "                [1, 1, 1]],\n",
    "               [[1, 1, 1],\n",
    "                [1, 1, 1],\n",
    "                [1, 1, 1]],\n",
    "               [[1, 1, 1],\n",
    "                [1, 10, 1],\n",
    "                [1, 1, 1]],\n",
    "               [[1, 1, 1],\n",
    "                [1, 10, 1],\n",
    "                [1, 1, 1]]])\n",
    "b1 = np.array([-2, -3, -12, -13])\n",
    "K2 = np.array([[[1]],\n",
    "               [[-2]],\n",
    "               [[1]],\n",
    "               [[-2]]])\n",
    "b2 = np.array([-0.5])"
   ]
  },
  {
   "cell_type": "code",
   "execution_count": 151,
   "metadata": {},
   "outputs": [
    {
     "name": "stdout",
     "output_type": "stream",
     "text": [
      "OK 0\n",
      "OK 1\n",
      "OK 2\n",
      "OK 3\n",
      "OK 4\n"
     ]
    },
    {
     "data": {
      "image/png": "[encoded data removed]",
      "text/plain": [
       "<Figure size 432x288 with 2 Axes>"
      ]
     },
     "metadata": {},
     "output_type": "display_data"
    },
    {
     "data": {
      "image/png": "[encoded data removed]",
      "text/plain": [
       "<Figure size 432x288 with 2 Axes>"
      ]
     },
     "metadata": {},
     "output_type": "display_data"
    },
    {
     "data": {
      "image/png": "[encoded data removed]",
      "text/plain": [
       "<Figure size 432x288 with 2 Axes>"
      ]
     },
     "metadata": {},
     "output_type": "display_data"
    },
    {
     "data": {
      "image/png": "[encoded data removed]",
      "text/plain": [
       "<Figure size 432x288 with 2 Axes>"
      ]
     },
     "metadata": {},
     "output_type": "display_data"
    },
    {
     "data": {
      "image/png": "[encoded data removed]",
      "text/plain": [
       "<Figure size 432x288 with 2 Axes>"
      ]
     },
     "metadata": {},
     "output_type": "display_data"
    }
   ],
   "source": [
    "\n",
    "for i in range(N):\n",
    "    # ans\n",
    "    b = game(boards[i])\n",
    "    \n",
    "    # our method\n",
    "    hidden = conv2d(boards[i], K1, b1)\n",
    "    tmp = hidden * K2\n",
    "    output = np.zeros((tmp.shape[1], tmp.shape[2]))\n",
    "    for j in range(tmp.shape[0]):\n",
    "        output = np.add(output, tmp[j])\n",
    "    output = np.maximum(output, 0)\n",
    "    \n",
    "    figure = plt.figure()\n",
    "    figure.add_subplot(1,2,1)\n",
    "    plt.imshow(b, cmap='binary')\n",
    "    plt.title('Ans Board'), plt.xticks([]), plt.yticks([])\n",
    "    figure.add_subplot(1,2, 2)\n",
    "    plt.imshow(output, cmap='binary')\n",
    "    plt.title('Prediction Board'), plt.xticks([]), plt.yticks([])\n",
    "    \n",
    "    assert (b == output).all()\n",
    "    print(\"OK\", i)"
   ]
  },
  {
   "cell_type": "code",
   "execution_count": null,
   "metadata": {},
   "outputs": [],
   "source": []
  }
 ],
 "metadata": {
  "kernelspec": {
   "display_name": "Python 3",
   "language": "python",
   "name": "python3"
  },
  "language_info": {
   "codemirror_mode": {
    "name": "ipython",
    "version": 3
   },
   "file_extension": ".py",
   "mimetype": "text/x-python",
   "name": "python",
   "nbconvert_exporter": "python",
   "pygments_lexer": "ipython3",
   "version": "3.6.8"
  }
 },
 "nbformat": 4,
 "nbformat_minor": 2
}
